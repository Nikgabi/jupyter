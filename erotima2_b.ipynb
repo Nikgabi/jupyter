{
 "cells": [
  {
   "cell_type": "code",
   "execution_count": null,
   "metadata": {},
   "outputs": [],
   "source": [
    "import math\n",
    "A=[[22,38,9,20,11,32], [8,29,2,17,24,19], [13,30,23,40,3,7],[4,26,14,27,35,42]]\n",
    "r=len(A)\n",
    "s=len(A[0])\n",
    "k=math.log(r,2)\n",
    "max_pos=[0 for i in range(r)];\n",
    "def max_pos(A,n,s1,s2):\n",
    "    max=0\n",
    "    for j in range(s1,s2,1):\n",
    "        if max<A[n][j]:\n",
    "            max=A[n][j]\n",
    "    return A[n].index(max)\n",
    "    \n",
    "x1=max_pos(A,0,0,s)\n",
    "x2=max_pos(A,2,x1,s)\n",
    "x3=max_pos(A,1,x1,x2)\n",
    "x4=max_pos(A,3,x2,s)\n",
    "print(\"Οι max θέσεις της κάθε γραμμής του πίνακα Α είναι : \",x1,x3,x2,x4)\n",
    "print(\"Τα max στοιχεία της κάθε γραμμής είναι: \",A[0][x1],A[1][x3],A[2][x2],A[3][x4])\n",
    "print(\"To max του πίνακα Α είναι το: \", max(A[0][x1],A[1][x3],A[2][x2],A[3][x4]))"
   ]
  }
 ],
 "metadata": {
  "kernelspec": {
   "display_name": "Python 3",
   "language": "python",
   "name": "python3"
  },
  "language_info": {
   "codemirror_mode": {
    "name": "ipython",
    "version": 3
   },
   "file_extension": ".py",
   "mimetype": "text/x-python",
   "name": "python",
   "nbconvert_exporter": "python",
   "pygments_lexer": "ipython3",
   "version": "3.8.3"
  }
 },
 "nbformat": 4,
 "nbformat_minor": 4
}
