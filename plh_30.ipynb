{
 "cells": [
  {
   "cell_type": "code",
   "execution_count": 18,
   "metadata": {},
   "outputs": [
    {
     "name": "stdout",
     "output_type": "stream",
     "text": [
      "Οι καλύτερες τιμές για τον πίνακα:  [300, 200, 300] είναι B[2] = 600\n",
      "Οι καλύτερες τιμές για τον πίνακα:  [300, 200, 300, 200] είναι B[3] = 800\n",
      "Οι καλύτερες τιμές για τον πίνακα:  [300, 200, 300, 200, 300] είναι B[4] = 1000\n",
      "Οι καλύτερες τιμές για τον πίνακα:  [300, 200, 300, 200, 300, 500] είναι B[5] = 1400\n",
      "Οι καλύτερες τιμές για τον πίνακα:  [300, 200, 300, 200, 300, 500, 200] είναι B[6] = 1500\n",
      "Οι καλύτερες τιμές για τον πίνακα:  [300, 200, 300, 200, 300, 500, 200, 300] είναι B[7] = 1700\n"
     ]
    }
   ],
   "source": [
    "A = [300, 200, 300, 200, 300, 500, 200, 300] \n",
    "n = len(A)\n",
    "B = [0 for i in range(n)]\n",
    "B[0] = A[0] \n",
    "B[1] = A[0] + A[1] \n",
    "B[2] = max(A[0]+A[1],A[0]+A[2],A[1]+A[2])\n",
    "for i in range(3, n): \n",
    "    B[i] = max(B[i - 1], A[i] + B[i - 2] , A[i] + B[i - 1] - A[i - 2], A[i] +A[i-1] + B[i - 3])\n",
    "\n",
    "for i in range(2,n): \n",
    "    print(\"Οι καλύτερες τιμές για τον πίνακα:  \" + str(A[:i+1]) + \" είναι \" + 'B[' + str(i) + '] = ' + str(B[i]))"
   ]
  },
  {
   "cell_type": "code",
   "execution_count": 2,
   "metadata": {},
   "outputs": [
    {
     "data": {
      "text/plain": [
       "5702887"
      ]
     },
     "execution_count": 2,
     "metadata": {},
     "output_type": "execute_result"
    }
   ],
   "source": [
    "\n",
    "def  f(i):\n",
    "    if (i==0):\n",
    "        return 0\n",
    "    elif (i==1):\n",
    "        return 1\n",
    "    else:\n",
    "        return f(i-1)+f(i-2)\n",
    "f(34)"
   ]
  },
  {
   "cell_type": "code",
   "execution_count": 7,
   "metadata": {},
   "outputs": [
    {
     "name": "stdout",
     "output_type": "stream",
     "text": [
      "D[0]=: 200\n",
      "D[1]=: 300\n",
      "D[2]=: 300\n",
      "D[3]=: 200\n",
      "D[4]=: 250\n",
      "D[5]=: 350\n",
      "D[6]=: 400\n",
      "D[7]=: 500\n",
      "[200, 500, 600, 700, 950, 1200, 1450, 1850]\n",
      "Το καλύτερο για τον [200] είναι A[0] = 200\n",
      "Το καλύτερο για τον [200, 300] είναι A[1] = 500\n",
      "Το καλύτερο για τον [200, 300, 300] είναι A[2] = 600\n",
      "Το καλύτερο για τον [200, 300, 300, 200] είναι A[3] = 700\n",
      "Το καλύτερο για τον [200, 300, 300, 200, 250] είναι A[4] = 950\n",
      "Το καλύτερο για τον [200, 300, 300, 200, 250, 350] είναι A[5] = 1200\n",
      "Το καλύτερο για τον [200, 300, 300, 200, 250, 350, 400] είναι A[6] = 1450\n",
      "Το καλύτερο για τον [200, 300, 300, 200, 250, 350, 400, 500] είναι A[7] = 1850\n"
     ]
    }
   ],
   "source": [
    "D=[0 for i in range(n)];\n",
    "D[0]=int(input('D[0]=: '));\n",
    "D[1]=int(input('D[1]=: '));\n",
    "D[2]=int(input('D[2]=: '));\n",
    "D[3]=int(input('D[3]=: '));\n",
    "D[4]=int(input('D[4]=: '));\n",
    "D[5]=int(input('D[5]=: '));\n",
    "D[6]=int(input('D[6]=: '));\n",
    "D[7]=int(input('D[7]=: '));\n",
    "#A = [300, 200, 300, 200, 300, 500, 200, 300] \n",
    "n = len(D)\n",
    "A = [0 for i in range(n)]\n",
    "\n",
    "A[0] = D[0] \n",
    "A[1] = D[0] + D[1] \n",
    "A[2] = max(D[0]+D[1],D[0]+D[2],D[1]+D[2])\n",
    "for i in range(2, n): \n",
    "    A[i] = max(D[i] + A[i - 1] - D[i - 2], D[i] + A[i - 2], D[i] +D[i-1] + A[i - 3], A[i - 1])\n",
    "print(A)\n",
    "for i in range(n): \n",
    "    print(\"Το καλύτερο για τον \" + str(D[:i + 1]) + \" είναι \" + 'A[' + str(i) + '] = ' + str(A[i]))"
   ]
  },
  {
   "cell_type": "code",
   "execution_count": null,
   "metadata": {},
   "outputs": [],
   "source": []
  }
 ],
 "metadata": {
  "kernelspec": {
   "display_name": "Python 3",
   "language": "python",
   "name": "python3"
  },
  "language_info": {
   "codemirror_mode": {
    "name": "ipython",
    "version": 3
   },
   "file_extension": ".py",
   "mimetype": "text/x-python",
   "name": "python",
   "nbconvert_exporter": "python",
   "pygments_lexer": "ipython3",
   "version": "3.8.3"
  }
 },
 "nbformat": 4,
 "nbformat_minor": 4
}
